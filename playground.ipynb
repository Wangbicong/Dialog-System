{
 "cells": [
  {
   "cell_type": "code",
   "execution_count": 6,
   "metadata": {},
   "outputs": [],
   "source": [
    "import time \n",
    "from termcolor import colored\n",
    "from simpleeval import simple_eval\n",
    "import random\n",
    "\n",
    "class Bot:\n",
    "\n",
    "    wait = 1\n",
    "    \n",
    "    def __init__(self,runtype='once'):\n",
    "        self.q = ''\n",
    "        self.a = ''\n",
    "        self.runtype=runtype\n",
    "        \n",
    "    def _think(self,s):\n",
    "        return s\n",
    "\n",
    "    def _say(self,s):\n",
    "        time.sleep(Bot.wait)\n",
    "        print(colored(s,'green'))\n",
    "        \n",
    "    def _run_once(self):\n",
    "        self._say(self.q)\n",
    "        self.a = input()   \n",
    "        self._say(self._think(self.a))\n",
    "        \n",
    "    def _run_looped(self):\n",
    "        self._say(self.q)\n",
    "        while True:\n",
    "            self.a = input()\n",
    "            if self.a.lower() in ['q','x','quit','exit']:\n",
    "                break\n",
    "            self._say(self._think(self.a))\n",
    "            \n",
    "    def run(self):\n",
    "        if self.runtype == 'once':\n",
    "            self._run_once()\n",
    "        elif self.runtype == 'looped':\n",
    "            self._run_looped()\n",
    "            \n",
    "         \n"
   ]
  },
  {
   "cell_type": "code",
   "execution_count": 7,
   "metadata": {},
   "outputs": [],
   "source": [
    "class HelloBot(Bot):\n",
    "    \n",
    "    def __init__(self,runtype='once'):\n",
    "        super().__init__(runtype)\n",
    "        self.q = 'Hi,what is your name?'\n",
    "        \n",
    "    def _think(self,s):\n",
    "        return f'Hello {s}！'    \n",
    "            \n",
    "        \n",
    "class GreetingBot(Bot):\n",
    "    \n",
    "    def __init__(self,runtype='once'):\n",
    "        super().__init__(runtype)\n",
    "        self.q = 'How are you today?'\n",
    "        \n",
    "    def _think(self,s):\n",
    "        if 'good' in s.lower():\n",
    "            return 'I\\'m feeling good too'\n",
    "        else:\n",
    "            return 'Sorry to hear that'       \n",
    "            \n",
    "\n",
    "class FavoriteColorBot(Bot):\n",
    "    \n",
    "    def __init__(self,runtype='once'):\n",
    "        super().__init__(runtype)\n",
    "        self.q = 'What is your favorite color?'\n",
    "        \n",
    "    def _think(self,s):\n",
    "        colors = ['red', 'orange', 'yellow', 'green', 'blue', 'indigo', 'purple']\n",
    "        return f'You like {s.lower()}? My favorite color is {random.choice(colors)}'\n",
    "    \n",
    "class CalcBot(Bot):\n",
    "    def __init__(self,runtype='once'):\n",
    "        super().__init__(runtype)\n",
    "        self.q = 'Through recent upgrade I can do calculation now.'\n",
    "        \n",
    "    def _think(self,s):\n",
    "        result = simple_eval(s)\n",
    "        return f'Done. Result = {result}'\n",
    "    \n"
   ]
  },
  {
   "cell_type": "code",
   "execution_count": 8,
   "metadata": {},
   "outputs": [],
   "source": [
    "class Garfield:\n",
    "    \n",
    "    def __init__(self):\n",
    "        self.bots = []\n",
    "        \n",
    "    def add(self,bot):\n",
    "        self.bots.append(bot)\n",
    "        \n",
    "    def run(self):\n",
    "        print('Welcome to Garfield dialog system. Let\\'s talk.')\n",
    "        print()\n",
    "              \n",
    "        for bot in self.bots:\n",
    "            bot.run()\n",
    "            "
   ]
  },
  {
   "cell_type": "code",
   "execution_count": 9,
   "metadata": {},
   "outputs": [
    {
     "name": "stdout",
     "output_type": "stream",
     "text": [
      "Welcome to Garfield dialog system. Let's talk.\n",
      "\n",
      "\u001b[32mHi,what is your name?\u001b[0m\n"
     ]
    },
    {
     "name": "stdin",
     "output_type": "stream",
     "text": [
      " edward\n"
     ]
    },
    {
     "name": "stdout",
     "output_type": "stream",
     "text": [
      "\u001b[32mHello edward！\u001b[0m\n",
      "\u001b[32mHow are you today?\u001b[0m\n"
     ]
    },
    {
     "name": "stdin",
     "output_type": "stream",
     "text": [
      " good\n"
     ]
    },
    {
     "name": "stdout",
     "output_type": "stream",
     "text": [
      "\u001b[32mI'm feeling good too\u001b[0m\n",
      "\u001b[32mWhat is your favorite color?\u001b[0m\n"
     ]
    },
    {
     "name": "stdin",
     "output_type": "stream",
     "text": [
      " red\n"
     ]
    },
    {
     "name": "stdout",
     "output_type": "stream",
     "text": [
      "\u001b[32mYou like red? My favorite color is orange\u001b[0m\n",
      "\u001b[32mThrough recent upgrade I can do calculation now.\u001b[0m\n"
     ]
    },
    {
     "name": "stdin",
     "output_type": "stream",
     "text": [
      " 7+8\n"
     ]
    },
    {
     "name": "stdout",
     "output_type": "stream",
     "text": [
      "\u001b[32mDone. Result = 15\u001b[0m\n"
     ]
    },
    {
     "name": "stdin",
     "output_type": "stream",
     "text": [
      " 9+6\n"
     ]
    },
    {
     "name": "stdout",
     "output_type": "stream",
     "text": [
      "\u001b[32mDone. Result = 15\u001b[0m\n"
     ]
    },
    {
     "name": "stdin",
     "output_type": "stream",
     "text": [
      " 5*9-9+8\n"
     ]
    },
    {
     "name": "stdout",
     "output_type": "stream",
     "text": [
      "\u001b[32mDone. Result = 44\u001b[0m\n"
     ]
    },
    {
     "name": "stdin",
     "output_type": "stream",
     "text": [
      " q\n"
     ]
    }
   ],
   "source": [
    "garfield = Garfield()\n",
    "garfield.add(HelloBot())\n",
    "garfield.add(GreetingBot())\n",
    "garfield.add(FavoriteColorBot())\n",
    "garfield.add(CalcBot('looped'))\n",
    "garfield.run()"
   ]
  }
 ],
 "metadata": {
  "kernelspec": {
   "display_name": "Python 3",
   "language": "python",
   "name": "python3"
  },
  "language_info": {
   "codemirror_mode": {
    "name": "ipython",
    "version": 3
   },
   "file_extension": ".py",
   "mimetype": "text/x-python",
   "name": "python",
   "nbconvert_exporter": "python",
   "pygments_lexer": "ipython3",
   "version": "3.7.4"
  }
 },
 "nbformat": 4,
 "nbformat_minor": 4
}
